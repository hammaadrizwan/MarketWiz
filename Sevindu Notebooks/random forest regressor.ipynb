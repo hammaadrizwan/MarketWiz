{
 "cells": [
  {
   "cell_type": "code",
   "execution_count": 1,
   "id": "dca28a38",
   "metadata": {},
   "outputs": [],
   "source": [
    "import numpy as np\n",
    "import pandas as pd\n",
    "from sklearn.linear_model import LinearRegression\n",
    "from pandas import DataFrame, Series\n",
    "from sklearn.model_selection import train_test_split\n",
    "from IPython.display import Image \n",
    "import io\n",
    "from sklearn import tree\n",
    "# import pydotplus\n",
    "from sklearn import preprocessing\n",
    "from sklearn.ensemble import RandomForestRegressor\n",
    "from sklearn.tree import export_graphviz\n",
    "# from sklearn.metrics import plot_confusion_matrix\n",
    "import matplotlib.pyplot as plt\n",
    "# import graphviz\n",
    "# import pydotplus\n",
    "import io\n",
    "from scipy import misc\n",
    "from sklearn.metrics import mean_squared_error\n",
    "%matplotlib inline\n",
    "import joblib"
   ]
  },
  {
   "cell_type": "code",
   "execution_count": 5,
   "id": "76a7b230",
   "metadata": {},
   "outputs": [
    {
     "name": "stdout",
     "output_type": "stream",
     "text": [
      "   Date  Month  Year   RF  T max   T min  Avg_tem\n",
      "0     1     10  2013  0.0    31.1   25.8    28.45\n",
      "1     2     10  2013  0.0    31.3   27.5    29.40\n",
      "2     3     10  2013  1.6    31.3   27.3    29.30 \n",
      "...\n",
      "...\n",
      "...\n",
      "       Date  Month  Year    RF  T max   T min  Avg_tem\n",
      "3650    29      9  2023  60.3    29.8   23.8    26.80\n",
      "3651    30      9  2023  29.6    30.4   23.5    26.95\n"
     ]
    }
   ],
   "source": [
    "data = pd.read_csv('NewSl.csv')\n",
    "print(data.head(3), '\\n...\\n...\\n...\\n',data.tail(2))"
   ]
  },
  {
   "cell_type": "code",
   "execution_count": 6,
   "id": "a0debf07",
   "metadata": {},
   "outputs": [
    {
     "data": {
      "text/plain": [
       "Date         int64\n",
       "Month        int64\n",
       "Year         int64\n",
       "RF         float64\n",
       "T max      float64\n",
       "T min      float64\n",
       "Avg_tem    float64\n",
       "dtype: object"
      ]
     },
     "execution_count": 6,
     "metadata": {},
     "output_type": "execute_result"
    }
   ],
   "source": [
    "data.dtypes"
   ]
  },
  {
   "cell_type": "code",
   "execution_count": 7,
   "id": "4ec057e5",
   "metadata": {},
   "outputs": [
    {
     "data": {
      "text/plain": [
       "0       28.45\n",
       "1       29.40\n",
       "2       29.30\n",
       "3       28.20\n",
       "4       27.60\n",
       "        ...  \n",
       "3647    28.85\n",
       "3648    27.50\n",
       "3649    26.65\n",
       "3650    26.80\n",
       "3651    26.95\n",
       "Name: Avg_tem, Length: 3652, dtype: float64"
      ]
     },
     "execution_count": 7,
     "metadata": {},
     "output_type": "execute_result"
    }
   ],
   "source": [
    "pd.to_numeric(data['Avg_tem'])"
   ]
  },
  {
   "cell_type": "code",
   "execution_count": 8,
   "id": "baff7071",
   "metadata": {},
   "outputs": [],
   "source": [
    "rain = data['RF']\n",
    "temp = data['Avg_tem']"
   ]
  },
  {
   "cell_type": "code",
   "execution_count": 9,
   "id": "ab81bf6d",
   "metadata": {},
   "outputs": [
    {
     "name": "stdout",
     "output_type": "stream",
     "text": [
      "0        0.0\n",
      "1        0.0\n",
      "2        1.6\n",
      "3        5.8\n",
      "4        0.3\n",
      "        ... \n",
      "3647    18.4\n",
      "3648    42.4\n",
      "3649    63.4\n",
      "3650    60.3\n",
      "3651    29.6\n",
      "Name: RF, Length: 3652, dtype: float64\n"
     ]
    }
   ],
   "source": [
    "print(rain)"
   ]
  },
  {
   "cell_type": "code",
   "execution_count": 10,
   "id": "a8b6dd85",
   "metadata": {},
   "outputs": [
    {
     "name": "stdout",
     "output_type": "stream",
     "text": [
      "0       28.45\n",
      "1       29.40\n",
      "2       29.30\n",
      "3       28.20\n",
      "4       27.60\n",
      "        ...  \n",
      "3647    28.85\n",
      "3648    27.50\n",
      "3649    26.65\n",
      "3650    26.80\n",
      "3651    26.95\n",
      "Name: Avg_tem, Length: 3652, dtype: float64\n"
     ]
    }
   ],
   "source": [
    "print(temp)"
   ]
  },
  {
   "cell_type": "code",
   "execution_count": 11,
   "id": "a5b22e9e",
   "metadata": {},
   "outputs": [
    {
     "data": {
      "text/html": [
       "<div>\n",
       "<style scoped>\n",
       "    .dataframe tbody tr th:only-of-type {\n",
       "        vertical-align: middle;\n",
       "    }\n",
       "\n",
       "    .dataframe tbody tr th {\n",
       "        vertical-align: top;\n",
       "    }\n",
       "\n",
       "    .dataframe thead th {\n",
       "        text-align: right;\n",
       "    }\n",
       "</style>\n",
       "<table border=\"1\" class=\"dataframe\">\n",
       "  <thead>\n",
       "    <tr style=\"text-align: right;\">\n",
       "      <th></th>\n",
       "      <th>RF</th>\n",
       "      <th>T max</th>\n",
       "      <th>T min</th>\n",
       "      <th>Avg_tem</th>\n",
       "    </tr>\n",
       "    <tr>\n",
       "      <th>DATE</th>\n",
       "      <th></th>\n",
       "      <th></th>\n",
       "      <th></th>\n",
       "      <th></th>\n",
       "    </tr>\n",
       "  </thead>\n",
       "  <tbody>\n",
       "    <tr>\n",
       "      <th>2013/10/1</th>\n",
       "      <td>0.0</td>\n",
       "      <td>31.1</td>\n",
       "      <td>25.8</td>\n",
       "      <td>28.45</td>\n",
       "    </tr>\n",
       "    <tr>\n",
       "      <th>2013/10/2</th>\n",
       "      <td>0.0</td>\n",
       "      <td>31.3</td>\n",
       "      <td>27.5</td>\n",
       "      <td>29.40</td>\n",
       "    </tr>\n",
       "    <tr>\n",
       "      <th>2013/10/3</th>\n",
       "      <td>1.6</td>\n",
       "      <td>31.3</td>\n",
       "      <td>27.3</td>\n",
       "      <td>29.30</td>\n",
       "    </tr>\n",
       "    <tr>\n",
       "      <th>2013/10/4</th>\n",
       "      <td>5.8</td>\n",
       "      <td>30.7</td>\n",
       "      <td>25.7</td>\n",
       "      <td>28.20</td>\n",
       "    </tr>\n",
       "    <tr>\n",
       "      <th>2013/10/5</th>\n",
       "      <td>0.3</td>\n",
       "      <td>30.8</td>\n",
       "      <td>24.4</td>\n",
       "      <td>27.60</td>\n",
       "    </tr>\n",
       "  </tbody>\n",
       "</table>\n",
       "</div>"
      ],
      "text/plain": [
       "            RF  T max   T min  Avg_tem\n",
       "DATE                                  \n",
       "2013/10/1  0.0    31.1   25.8    28.45\n",
       "2013/10/2  0.0    31.3   27.5    29.40\n",
       "2013/10/3  1.6    31.3   27.3    29.30\n",
       "2013/10/4  5.8    30.7   25.7    28.20\n",
       "2013/10/5  0.3    30.8   24.4    27.60"
      ]
     },
     "execution_count": 11,
     "metadata": {},
     "output_type": "execute_result"
    }
   ],
   "source": [
    "data['Year'] = data.Year.astype(str)\n",
    "data['Month'] = data.Month.astype(str)\n",
    "data['Date'] = data.Date.astype(str)\n",
    "\n",
    "data['date'] = data['Year'].str.cat(data['Month'], sep = '/')\n",
    "data['DATE'] = data['date'].str.cat(data['Date'], sep = '/')\n",
    "data.drop(columns=['Year','Month','Date','date'],axis=1,inplace=True)\n",
    "data.set_index(['DATE'], inplace = True)\n",
    "data.head()"
   ]
  },
  {
   "cell_type": "code",
   "execution_count": 12,
   "id": "82eeac36",
   "metadata": {},
   "outputs": [
    {
     "data": {
      "text/plain": [
       "RF         float64\n",
       "T max      float64\n",
       "T min      float64\n",
       "Avg_tem    float64\n",
       "dtype: object"
      ]
     },
     "execution_count": 12,
     "metadata": {},
     "output_type": "execute_result"
    }
   ],
   "source": [
    "data.dtypes"
   ]
  },
  {
   "cell_type": "code",
   "execution_count": 13,
   "id": "5ebb36e7",
   "metadata": {},
   "outputs": [
    {
     "name": "stdout",
     "output_type": "stream",
     "text": [
      "      DATE    RF  T max   T min  Avg_tem\n",
      "0        0   0.0    31.1   25.8    28.45\n",
      "1       11   0.0    31.3   27.5    29.40\n",
      "2       22   1.6    31.3   27.3    29.30\n",
      "3       25   5.8    30.7   25.7    28.20\n",
      "4       26   0.3    30.8   24.4    27.60\n",
      "...    ...   ...     ...    ...      ...\n",
      "3647  3640  18.4    31.3   26.4    28.85\n",
      "3648  3641  42.4    29.8   25.2    27.50\n",
      "3649  3642  63.4    28.7   24.6    26.65\n",
      "3650  3643  60.3    29.8   23.8    26.80\n",
      "3651  3645  29.6    30.4   23.5    26.95\n",
      "\n",
      "[3652 rows x 5 columns]\n"
     ]
    }
   ],
   "source": [
    "from sklearn.preprocessing import LabelEncoder\n",
    "label_encoder = LabelEncoder()\n",
    "data.reset_index(inplace=True)\n",
    "data[\"DATE\"] = label_encoder.fit_transform(data[\"DATE\"])\n",
    "print(data)"
   ]
  },
  {
   "cell_type": "code",
   "execution_count": 14,
   "id": "f4aa446a",
   "metadata": {},
   "outputs": [
    {
     "name": "stdout",
     "output_type": "stream",
     "text": [
      "Index(['DATE', 'RF', 'T max ', 'T min', 'Avg_tem'], dtype='object')\n"
     ]
    }
   ],
   "source": [
    "print(data.columns)"
   ]
  },
  {
   "cell_type": "code",
   "execution_count": 15,
   "id": "973b74cd",
   "metadata": {},
   "outputs": [],
   "source": [
    "inputs = [\"T max \" , \"T min\" , \"Avg_tem\" , \"DATE\"]"
   ]
  },
  {
   "cell_type": "code",
   "execution_count": 16,
   "id": "c8668371",
   "metadata": {},
   "outputs": [],
   "source": [
    "output = [\"RF\"]"
   ]
  },
  {
   "cell_type": "code",
   "execution_count": 17,
   "id": "a31204bd",
   "metadata": {},
   "outputs": [],
   "source": [
    "X = data[inputs]\n",
    "Y = data[output]"
   ]
  },
  {
   "cell_type": "code",
   "execution_count": 18,
   "id": "68ac8f63",
   "metadata": {},
   "outputs": [],
   "source": [
    "X_train, X_test, Y_train, Y_test = train_test_split(X, Y, test_size= 0.2, random_state=42)"
   ]
  },
  {
   "cell_type": "code",
   "execution_count": 19,
   "id": "77dc5a29",
   "metadata": {},
   "outputs": [
    {
     "name": "stderr",
     "output_type": "stream",
     "text": [
      "c:\\Users\\Hammaad\\AppData\\Local\\Programs\\Python\\Python39\\lib\\site-packages\\sklearn\\base.py:1351: DataConversionWarning: A column-vector y was passed when a 1d array was expected. Please change the shape of y to (n_samples,), for example using ravel().\n",
      "  return fit_method(estimator, *args, **kwargs)\n"
     ]
    },
    {
     "name": "stdout",
     "output_type": "stream",
     "text": [
      "Training RMSE: 6.150963825856136\n",
      "Testing RMSE: 16.185429928221073\n"
     ]
    },
    {
     "name": "stderr",
     "output_type": "stream",
     "text": [
      "c:\\Users\\Hammaad\\AppData\\Local\\Programs\\Python\\Python39\\lib\\site-packages\\sklearn\\metrics\\_regression.py:483: FutureWarning: 'squared' is deprecated in version 1.4 and will be removed in 1.6. To calculate the root mean squared error, use the function'root_mean_squared_error'.\n",
      "  warnings.warn(\n",
      "c:\\Users\\Hammaad\\AppData\\Local\\Programs\\Python\\Python39\\lib\\site-packages\\sklearn\\metrics\\_regression.py:483: FutureWarning: 'squared' is deprecated in version 1.4 and will be removed in 1.6. To calculate the root mean squared error, use the function'root_mean_squared_error'.\n",
      "  warnings.warn(\n"
     ]
    }
   ],
   "source": [
    "model = RandomForestRegressor(n_estimators=200,random_state=42)\n",
    "model.fit(X_train,Y_train)\n",
    "Y_prediction = model.predict(X_test)\n",
    "def rmse(a, b):\n",
    "    return mean_squared_error(a, b, squared=False)\n",
    "\n",
    "training_value = rmse(model.predict(X_train),Y_train)\n",
    "testing_value = rmse(model.predict(X_test),Y_test)\n",
    "\n",
    "print(f'Training RMSE: {training_value}')\n",
    "print(f'Testing RMSE: {testing_value}')"
   ]
  },
  {
   "cell_type": "code",
   "execution_count": 20,
   "id": "dc565586",
   "metadata": {},
   "outputs": [],
   "source": [
    "import pickle\n",
    "pickle.dump(model, open('weatherModel.pkl','wb'))"
   ]
  },
  {
   "cell_type": "code",
   "execution_count": 202,
   "id": "20de9b55",
   "metadata": {},
   "outputs": [
    {
     "name": "stdout",
     "output_type": "stream",
     "text": [
      "Model saved to weather_prediction_model.joblib\n"
     ]
    }
   ],
   "source": [
    "# Save the trained model to a file using joblib\n",
    "model_RainPredict = 'weather_prediction_model.joblib'\n",
    "joblib.dump(model, model_RainPredict)\n",
    "print(f'Model saved to {model_RainPredict}')"
   ]
  },
  {
   "cell_type": "code",
   "execution_count": 21,
   "id": "e560ce78",
   "metadata": {},
   "outputs": [],
   "source": [
    "day = int(input('Enter Day'))\n",
    "month = int(input('Enter Month'))\n",
    "year = int(input('Enter Year'))\n",
    "T_Min = float(input('Enter Minimum Temp'))\n",
    "T_Max = float(input('Enter Maximum Temp'))"
   ]
  },
  {
   "cell_type": "code",
   "execution_count": 23,
   "id": "61e52198",
   "metadata": {},
   "outputs": [
    {
     "name": "stdout",
     "output_type": "stream",
     "text": [
      "33.0\n",
      "2024-02-13 00:00:00\n",
      "User entered date in float representation: 1707762600.0\n"
     ]
    }
   ],
   "source": [
    "T_Avg = (T_Min+T_Max)/2\n",
    "print(T_Avg)\n",
    "\n",
    "from datetime import datetime\n",
    "\n",
    "# Combine inputs into a datetime object\n",
    "user_date = datetime(year, month, day)\n",
    "print(user_date)\n",
    "\n",
    "# Convert datetime to float\n",
    "float_representation = user_date.timestamp()\n",
    "\n",
    "print(f'User entered date in float representation: {float_representation}')\n",
    "\n",
    "\n",
    "# year = year.astype(str)\n",
    "# month = month.astype(str)\n",
    "# day = day.astype(str)\n",
    "\n",
    "# Date = year.str.cat(month, sep = '/')\n",
    "# DATE = day.str.cat(Date, sep = '/')\n",
    "# # drop('year','month','Date','day'],axis=1,inplace=True)\n",
    "# # data.set_index(['DATE'], inplace = True)\n",
    "# print(DATE)"
   ]
  },
  {
   "cell_type": "code",
   "execution_count": 24,
   "id": "9b794ac9",
   "metadata": {},
   "outputs": [],
   "source": [
    "# Create a DataFrame for user input\n",
    "user_data = pd.DataFrame({\n",
    "#     'RF': [0],  # You may assume 0 rainfall for simplicity\n",
    "    'T max ': [T_Max],\n",
    "    'T min': [T_Min],\n",
    "    'Avg_tem': [T_Avg],\n",
    "    'DATE' : [float_representation],\n",
    "})"
   ]
  },
  {
   "cell_type": "code",
   "execution_count": 25,
   "id": "fce7c697",
   "metadata": {},
   "outputs": [
    {
     "name": "stdout",
     "output_type": "stream",
     "text": [
      "Predicted Average RainFall: 60.71\n"
     ]
    }
   ],
   "source": [
    "loaded_model = pickle.load(open('weatherModel.pkl','rb'))\n",
    "# Make a prediction\n",
    "user_prediction = loaded_model.predict(user_data)\n",
    "print(f'Predicted Average RainFall: {user_prediction[0]:.2f}')"
   ]
  },
  {
   "cell_type": "code",
   "execution_count": 265,
   "id": "30856029",
   "metadata": {},
   "outputs": [
    {
     "name": "stdout",
     "output_type": "stream",
     "text": [
      "Predicted Average RainFall: 49.91\n"
     ]
    }
   ],
   "source": [
    "# Load the saved model\n",
    "loaded_model = joblib.load(model_RainPredict)\n",
    "\n",
    "# Make a prediction using user input\n",
    "user_prediction = loaded_model.predict(user_data)\n",
    "print(f'Predicted Average RainFall: {user_prediction[0]:.2f}')"
   ]
  },
  {
   "cell_type": "code",
   "execution_count": null,
   "id": "6329e842",
   "metadata": {},
   "outputs": [],
   "source": []
  }
 ],
 "metadata": {
  "kernelspec": {
   "display_name": "Python 3 (ipykernel)",
   "language": "python",
   "name": "python3"
  },
  "language_info": {
   "codemirror_mode": {
    "name": "ipython",
    "version": 3
   },
   "file_extension": ".py",
   "mimetype": "text/x-python",
   "name": "python",
   "nbconvert_exporter": "python",
   "pygments_lexer": "ipython3",
   "version": "3.9.1"
  }
 },
 "nbformat": 4,
 "nbformat_minor": 5
}
